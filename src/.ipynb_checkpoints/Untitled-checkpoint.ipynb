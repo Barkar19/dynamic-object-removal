{
 "cells": [
  {
   "cell_type": "code",
   "execution_count": 126,
   "metadata": {},
   "outputs": [
    {
     "name": "stderr",
     "output_type": "stream",
     "text": [
      "/usr/lib64/python3.6/site-packages/numpy/core/numeric.py:531: ComplexWarning:\n",
      "\n",
      "Casting complex values to real discards the imaginary part\n",
      "\n"
     ]
    },
    {
     "data": {
      "text/plain": [
       "<matplotlib.text.Text at 0x7f4deb9ce828>"
      ]
     },
     "execution_count": 126,
     "metadata": {},
     "output_type": "execute_result"
    },
    {
     "data": {
      "image/png": "[encoded data removed]",
      "text/plain": [
       "<matplotlib.figure.Figure at 0x7f4df6756940>"
      ]
     },
     "metadata": {},
     "output_type": "display_data"
    }
   ],
   "source": [
    "%matplotlib inline\n",
    "import matplotlib.pyplot as plt\n",
    "import plotly as py\n",
    "import numpy as np\n",
    "import scipy.stats\n",
    "# Learn about API authentication here: https://plot.ly/python/getting-started\n",
    "# Find your api_key here: https://plot.ly/settings/api\n",
    "\n",
    "Fs = 150.0;  # sampling rate\n",
    "Ts = 1.0/Fs; # sampling interval\n",
    "t = np.arange(0,1,Ts) # time vector\n",
    "\n",
    "ff = 5;   # frequency of the signal\n",
    "y = scipy.stats.norm(0, 10).pdf(t)\n",
    "y = (y - np.min(y)) / (np.max(y) - np.min(y))\n",
    "y[44:55] = 0\n",
    "\n",
    "n = len(y) # length of the signal\n",
    "k = np.arange(n)\n",
    "T = n/Fs\n",
    "frq = k/T # two sides frequency range\n",
    "# frq = frq[range(n//2)] # one side frequency range\n",
    "\n",
    "Y = np.fft.fft(y)/n # fft computing and normalization\n",
    "# Y = Y[range(n//2)]\n",
    "\n",
    "\n",
    "def lowpass( Y, f ):\n",
    "    k = int(len(Y)/2 * f)\n",
    "#     Y[ k : len(Y) - k ] = 0\n",
    "#     Y *= np.hanning( len(Y) )\n",
    "    for i in range(0,len(Y)):\n",
    "        Y[i] = Y[i] * scipy.stats.norm(k, 1).pdf(i)\n",
    "#     Y = (Y  - np.min(Y)) / (np.max(Y) - np.min(Y))\n",
    "    return Y\n",
    "\n",
    "def highpass( Y, f ):\n",
    "    k = int(len(Y) * f)\n",
    "    Y[0 : k] = 0\n",
    "    Y[len(Y) - k  : ] = 0\n",
    "    return Y\n",
    "\n",
    "def bandpass( Y, f1, f2):\n",
    "    Y = lowpass(Y, f1)\n",
    "    Y = highpass(Y, f2)\n",
    "    return Y\n",
    "\n",
    "\n",
    "fig, ax = plt.subplots(3, 1)\n",
    "ax[0].plot(t,y)\n",
    "ax[0].set_xlabel('Time')\n",
    "ax[0].set_ylabel('Amplitude')\n",
    "ax[0].set_ylim([0,1])\n",
    "\n",
    "Y = lowpass( Y, 0.1)\n",
    "\n",
    "ax[1].plot(frq,abs(Y),'r') # plotting the spectrum\n",
    "ax[1].set_xlabel('Freq (Hz)')\n",
    "ax[1].set_ylabel('|Y(freq)|')\n",
    "# ax[1].set_ylim([0,1])\n",
    "new_y = np.fft.ifft(Y)\n",
    "ax[2].plot(t,new_y)\n",
    "ax[2].set_xlabel('Time')\n",
    "ax[2].set_ylabel('Amplitude')\n",
    "# ax[2].set_ylim([0,1])"
   ]
  },
  {
   "cell_type": "code",
   "execution_count": 57,
   "metadata": {},
   "outputs": [],
   "source": [
    "def detect_outlier_position_by_fft(signal, threshold_freq=0.1,\n",
    "                                   frequency_amplitude=.001):\n",
    "    signal = signal.copy()\n",
    "    fft_of_signal = np.fft.fft(signal)\n",
    "    outlier = np.max(signal) if abs(np.max(signal)) > abs(np.min(signal)) else np.min(signal)\n",
    "    if np.any(np.abs(fft_of_signal[threshold_freq*:]) > frequency_amplitude):\n",
    "        index_of_outlier = np.where(signal == outlier)\n",
    "        return index_of_outlier[0]\n",
    "    else:\n",
    "        return None"
   ]
  },
  {
   "cell_type": "code",
   "execution_count": 58,
   "metadata": {},
   "outputs": [
    {
     "ename": "TypeError",
     "evalue": "slice indices must be integers or None or have an __index__ method",
     "output_type": "error",
     "traceback": [
      "\u001b[0;31m---------------------------------------------------------------------------\u001b[0m",
      "\u001b[0;31mTypeError\u001b[0m                                 Traceback (most recent call last)",
      "\u001b[0;32m<ipython-input-58-af729df22424>\u001b[0m in \u001b[0;36m<module>\u001b[0;34m()\u001b[0m\n\u001b[0;32m----> 1\u001b[0;31m \u001b[0mdetect_outlier_position_by_fft\u001b[0m\u001b[0;34m(\u001b[0m\u001b[0my\u001b[0m\u001b[0;34m)\u001b[0m\u001b[0;34m\u001b[0m\u001b[0m\n\u001b[0m",
      "\u001b[0;32m<ipython-input-57-11491031ef9b>\u001b[0m in \u001b[0;36mdetect_outlier_position_by_fft\u001b[0;34m(signal, threshold_freq, frequency_amplitude)\u001b[0m\n\u001b[1;32m      4\u001b[0m     \u001b[0mfft_of_signal\u001b[0m \u001b[0;34m=\u001b[0m \u001b[0mnp\u001b[0m\u001b[0;34m.\u001b[0m\u001b[0mfft\u001b[0m\u001b[0;34m.\u001b[0m\u001b[0mfft\u001b[0m\u001b[0;34m(\u001b[0m\u001b[0msignal\u001b[0m\u001b[0;34m)\u001b[0m\u001b[0;34m\u001b[0m\u001b[0m\n\u001b[1;32m      5\u001b[0m     \u001b[0moutlier\u001b[0m \u001b[0;34m=\u001b[0m \u001b[0mnp\u001b[0m\u001b[0;34m.\u001b[0m\u001b[0mmax\u001b[0m\u001b[0;34m(\u001b[0m\u001b[0msignal\u001b[0m\u001b[0;34m)\u001b[0m \u001b[0;32mif\u001b[0m \u001b[0mabs\u001b[0m\u001b[0;34m(\u001b[0m\u001b[0mnp\u001b[0m\u001b[0;34m.\u001b[0m\u001b[0mmax\u001b[0m\u001b[0;34m(\u001b[0m\u001b[0msignal\u001b[0m\u001b[0;34m)\u001b[0m\u001b[0;34m)\u001b[0m \u001b[0;34m>\u001b[0m \u001b[0mabs\u001b[0m\u001b[0;34m(\u001b[0m\u001b[0mnp\u001b[0m\u001b[0;34m.\u001b[0m\u001b[0mmin\u001b[0m\u001b[0;34m(\u001b[0m\u001b[0msignal\u001b[0m\u001b[0;34m)\u001b[0m\u001b[0;34m)\u001b[0m \u001b[0;32melse\u001b[0m \u001b[0mnp\u001b[0m\u001b[0;34m.\u001b[0m\u001b[0mmin\u001b[0m\u001b[0;34m(\u001b[0m\u001b[0msignal\u001b[0m\u001b[0;34m)\u001b[0m\u001b[0;34m\u001b[0m\u001b[0m\n\u001b[0;32m----> 6\u001b[0;31m     \u001b[0;32mif\u001b[0m \u001b[0mnp\u001b[0m\u001b[0;34m.\u001b[0m\u001b[0many\u001b[0m\u001b[0;34m(\u001b[0m\u001b[0mnp\u001b[0m\u001b[0;34m.\u001b[0m\u001b[0mabs\u001b[0m\u001b[0;34m(\u001b[0m\u001b[0mfft_of_signal\u001b[0m\u001b[0;34m[\u001b[0m\u001b[0mthreshold_freq\u001b[0m\u001b[0;34m:\u001b[0m\u001b[0;34m]\u001b[0m\u001b[0;34m)\u001b[0m \u001b[0;34m>\u001b[0m \u001b[0mfrequency_amplitude\u001b[0m\u001b[0;34m)\u001b[0m\u001b[0;34m:\u001b[0m\u001b[0;34m\u001b[0m\u001b[0m\n\u001b[0m\u001b[1;32m      7\u001b[0m         \u001b[0mindex_of_outlier\u001b[0m \u001b[0;34m=\u001b[0m \u001b[0mnp\u001b[0m\u001b[0;34m.\u001b[0m\u001b[0mwhere\u001b[0m\u001b[0;34m(\u001b[0m\u001b[0msignal\u001b[0m \u001b[0;34m==\u001b[0m \u001b[0moutlier\u001b[0m\u001b[0;34m)\u001b[0m\u001b[0;34m\u001b[0m\u001b[0m\n\u001b[1;32m      8\u001b[0m         \u001b[0;32mreturn\u001b[0m \u001b[0mindex_of_outlier\u001b[0m\u001b[0;34m[\u001b[0m\u001b[0;36m0\u001b[0m\u001b[0;34m]\u001b[0m\u001b[0;34m\u001b[0m\u001b[0m\n",
      "\u001b[0;31mTypeError\u001b[0m: slice indices must be integers or None or have an __index__ method"
     ]
    }
   ],
   "source": [
    "detect_outlier_position_by_fft(y)"
   ]
  },
  {
   "cell_type": "code",
   "execution_count": null,
   "metadata": {
    "collapsed": true
   },
   "outputs": [],
   "source": []
  }
 ],
 "metadata": {
  "kernelspec": {
   "display_name": "Python 3",
   "language": "python",
   "name": "python3"
  },
  "language_info": {
   "codemirror_mode": {
    "name": "ipython",
    "version": 3
   },
   "file_extension": ".py",
   "mimetype": "text/x-python",
   "name": "python",
   "nbconvert_exporter": "python",
   "pygments_lexer": "ipython3",
   "version": "3.6.1"
  }
 },
 "nbformat": 4,
 "nbformat_minor": 2
}
